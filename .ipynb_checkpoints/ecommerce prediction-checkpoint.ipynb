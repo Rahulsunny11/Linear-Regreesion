{
 "cells": [
  {
   "cell_type": "code",
   "execution_count": 2,
   "metadata": {
    "scrolled": true
   },
   "outputs": [
    {
     "name": "stdout",
     "output_type": "stream",
     "text": [
      "<class 'pandas.core.frame.DataFrame'>\n",
      "RangeIndex: 500 entries, 0 to 499\n",
      "Data columns (total 8 columns):\n",
      "Email                   500 non-null object\n",
      "Address                 500 non-null object\n",
      "Avatar                  500 non-null object\n",
      "Avg. Session Length     500 non-null float64\n",
      "Time on App             500 non-null float64\n",
      "Time on Website         500 non-null float64\n",
      "Length of Membership    500 non-null float64\n",
      "Yearly Amount Spent     500 non-null float64\n",
      "dtypes: float64(5), object(3)\n",
      "memory usage: 31.4+ KB\n",
      "                      coefficients\n",
      "Avg. Session Length      25.981550\n",
      "Time on App              38.590159\n",
      "Time on Website           0.190405\n",
      "Length of Membership     61.279097\n",
      "[456.44186104 402.72005312 409.2531539  591.4310343  590.01437275\n",
      " 548.82396607 577.59737969 715.44428115 473.7893446  545.9211364\n",
      " 337.8580314  500.38506697 552.93478041 409.6038964  765.52590754\n",
      " 545.83973731 693.25969124 507.32416226 573.10533175 573.2076631\n",
      " 397.44989709 555.0985107  458.19868141 482.66899911 559.2655959\n",
      " 413.00946082 532.25727408 377.65464817 535.0209653  447.80070905\n",
      " 595.54339577 667.14347072 511.96042791 573.30433971 505.02260887\n",
      " 565.30254655 460.38785393 449.74727868 422.87193429 456.55615271\n",
      " 598.10493696 449.64517443 615.34948995 511.88078685 504.37568058\n",
      " 515.95249276 568.64597718 551.61444684 356.5552241  464.9759817\n",
      " 481.66007708 534.2220025  256.28674001 505.30810714 520.01844434\n",
      " 315.0298707  501.98080155 387.03842642 472.97419543 432.8704675\n",
      " 539.79082198 590.03070739 752.86997652 558.27858232 523.71988382\n",
      " 431.77690078 425.38411902 518.75571466 641.9667215  481.84855126\n",
      " 549.69830187 380.93738919 555.18178277 403.43054276 472.52458887\n",
      " 501.82927633 473.5561656  456.76720365 554.74980563 702.96835044\n",
      " 534.68884588 619.18843136 500.11974127 559.43899225 574.8730604\n",
      " 505.09183544 529.9537559  479.20749452 424.78407899 452.20986599\n",
      " 525.74178343 556.60674724 425.7142882  588.8473985  490.77053065\n",
      " 562.56866231 495.75782933 445.17937217 456.64011682 537.98437395\n",
      " 367.06451757 421.12767301 551.59651363 528.26019754 493.47639211\n",
      " 495.28105313 519.81827269 461.15666582 528.8711677  442.89818166\n",
      " 543.20201646 350.07871481 401.49148567 606.87291134 577.04816561\n",
      " 524.50431281 554.11225704 507.93347015 505.35674292 371.65146821\n",
      " 342.37232987 634.43998975 523.46931378 532.7831345  574.59948331\n",
      " 435.57455636 599.92586678 487.24017405 457.66383406 425.25959495\n",
      " 331.81731213 443.70458331 563.47279005 466.14764208 463.51837671\n",
      " 381.29445432 411.88795623 473.48087683 573.31745784 417.55430913\n",
      " 543.50149858 547.81091537 547.62977348 450.99057409 561.50896321\n",
      " 478.30076589 484.41029555 457.59099941 411.52657592 375.47900638]\n",
      "MAE:  7.228148653430853\n",
      "MSE:  79.81305165097487\n",
      "RMSE:  8.933815066978656\n"
     ]
    },
    {
     "data": {
      "text/plain": [
       "<matplotlib.axes._subplots.AxesSubplot at 0x2518af83400>"
      ]
     },
     "execution_count": 2,
     "metadata": {},
     "output_type": "execute_result"
    },
    {
     "data": {
      "image/png": "[encoded data removed]",
      "text/plain": [
       "<Figure size 432x288 with 1 Axes>"
      ]
     },
     "metadata": {
      "needs_background": "light"
     },
     "output_type": "display_data"
    }
   ],
   "source": [
    "#importing libraries\n",
    "import pandas as pd\n",
    "import numpy as np\n",
    "import matplotlib.pyplot as plt\n",
    "import seaborn as sns\n",
    "from sklearn.model_selection import train_test_split\n",
    "from sklearn.linear_model import LinearRegression\n",
    "from sklearn import metrics\n",
    "\n",
    "#get data\n",
    "data = pd.read_csv('F:\\\\Data Science - rahul notes\\Machine Learning algorithms\\Ecommerce Customers.csv')\n",
    "data.head()\n",
    "data.describe()\n",
    "data.info()\n",
    "data.corr()\n",
    "\n",
    "#Training and testing data\n",
    "data.columns\n",
    "X = data[['Avg. Session Length', 'Time on App','Time on Website', 'Length of Membership']]\n",
    "Y = data['Yearly Amount Spent']\n",
    "X_train, X_test, y_train, y_test = train_test_split(X,Y, test_size =0.3, random_state = 101)\n",
    "\n",
    "#Traing the model\n",
    "#creating an instance of LinearRegression( model named lm)\n",
    "lm = LinearRegression()\n",
    "#train/fit lm on the training data\n",
    "lm.fit(X_train, y_train)\n",
    "\n",
    "#coefficients of the model\n",
    "coeff_data = pd.DataFrame(lm.coef_,X.columns, columns = ['coefficients'])\n",
    "print(coeff_data)\n",
    "incercept = lm.intercept_\n",
    "# predicting test data\n",
    "predictions = lm.predict(X_test)\n",
    "print(predictions)\n",
    "\n",
    "plt.scatter(y_test,predictions)\n",
    "plt.plot(y_test, predictions)\n",
    "\n",
    "# Evaluating the model\n",
    "#calculating the mean absolute error, mean squared error, squared mean squared error\n",
    "print('MAE: ', metrics.mean_absolute_error(y_test, predictions))\n",
    "print('MSE: ', metrics.mean_squared_error(y_test, predictions))\n",
    "print('RMSE: ', np.sqrt(metrics.mean_squared_error(y_test, predictions)))\n",
    "\n",
    "#Residuals\n",
    "#Ploting a histogram of the \\ \n",
    "#residuals and making sure it looks normally distributed.\n",
    "sns.distplot((y_test-predictions), bins = 50)\n",
    "\n"
   ]
  }
 ],
 "metadata": {
  "kernelspec": {
   "display_name": "Python 3",
   "language": "python",
   "name": "python3"
  },
  "language_info": {
   "codemirror_mode": {
    "name": "ipython",
    "version": 3
   },
   "file_extension": ".py",
   "mimetype": "text/x-python",
   "name": "python",
   "nbconvert_exporter": "python",
   "pygments_lexer": "ipython3",
   "version": "3.7.3"
  }
 },
 "nbformat": 4,
 "nbformat_minor": 2
}
